{
  "nbformat": 4,
  "nbformat_minor": 0,
  "metadata": {
    "colab": {
      "name": "Ocorrencias-e-acidentes-mundo.ipynb",
      "provenance": [],
      "collapsed_sections": []
    },
    "kernelspec": {
      "name": "python3",
      "display_name": "Python 3"
    }
  },
  "cells": [
    {
      "cell_type": "markdown",
      "metadata": {
        "id": "nSltCNVSh6Jl"
      },
      "source": [
        "# **Ocorrências aeronáuticas do Mundo, de 2008 a setembro de 2020.**\n",
        "\n",
        "Este estudo tem como objetivo analisar as ocorrências aeronáuticas mundiais, entre 2008 e 2020, obtidas pela International Civil Aviation Organization (ICAO)."
      ]
    },
    {
      "cell_type": "code",
      "metadata": {
        "id": "_F4GwjCN_J4G",
        "outputId": "997c23c6-4ecf-432c-ca9a-7a0ff2b710f9",
        "colab": {
          "base_uri": "https://localhost:8080/",
          "height": 190
        }
      },
      "source": [
        "pip install sidetable"
      ],
      "execution_count": null,
      "outputs": [
        {
          "output_type": "stream",
          "text": [
            "Collecting sidetable\n",
            "  Downloading https://files.pythonhosted.org/packages/ca/db/a360a0eafea8f56386d668907a359e6b721c4fa457342795322cb11d52ee/sidetable-0.7.0-py3-none-any.whl\n",
            "Requirement already satisfied: pandas>=1.0 in /usr/local/lib/python3.6/dist-packages (from sidetable) (1.0.5)\n",
            "Requirement already satisfied: numpy>=1.13.3 in /usr/local/lib/python3.6/dist-packages (from pandas>=1.0->sidetable) (1.18.5)\n",
            "Requirement already satisfied: pytz>=2017.2 in /usr/local/lib/python3.6/dist-packages (from pandas>=1.0->sidetable) (2018.9)\n",
            "Requirement already satisfied: python-dateutil>=2.6.1 in /usr/local/lib/python3.6/dist-packages (from pandas>=1.0->sidetable) (2.8.1)\n",
            "Requirement already satisfied: six>=1.5 in /usr/local/lib/python3.6/dist-packages (from python-dateutil>=2.6.1->pandas>=1.0->sidetable) (1.15.0)\n",
            "Installing collected packages: sidetable\n",
            "Successfully installed sidetable-0.7.0\n"
          ],
          "name": "stdout"
        }
      ]
    },
    {
      "cell_type": "code",
      "metadata": {
        "id": "jWAW3kWBn4Cd"
      },
      "source": [
        "import numpy as np # linear algebra\n",
        "import pandas as pd # data processing, CSV file I/O (e.g. pd.read_csv)\n",
        "\n",
        "import os\n",
        "import sidetable"
      ],
      "execution_count": null,
      "outputs": []
    },
    {
      "cell_type": "code",
      "metadata": {
        "id": "qJ9VnRgNn63g",
        "outputId": "c4d9171c-17a0-42bf-ec14-6808ddccf05d",
        "colab": {
          "base_uri": "https://localhost:8080/",
          "height": 71
        }
      },
      "source": [
        "import matplotlib\n",
        "import matplotlib.pyplot as plt\n",
        "import seaborn as sns\n",
        "\n",
        "from collections import Counter\n",
        "\n",
        "from seaborn import countplot\n",
        "from matplotlib.pyplot import figure, show"
      ],
      "execution_count": null,
      "outputs": [
        {
          "output_type": "stream",
          "text": [
            "/usr/local/lib/python3.6/dist-packages/statsmodels/tools/_testing.py:19: FutureWarning: pandas.util.testing is deprecated. Use the functions in the public API at pandas.testing instead.\n",
            "  import pandas.util.testing as tm\n"
          ],
          "name": "stderr"
        }
      ]
    },
    {
      "cell_type": "markdown",
      "metadata": {
        "id": "JZ__MdaNinuV"
      },
      "source": [
        "## **Importação das bibliotecas e Leitura dos dados**"
      ]
    },
    {
      "cell_type": "code",
      "metadata": {
        "id": "v_wE0WN7i2xY"
      },
      "source": [
        "icao = pd.read_csv(\"../content/data - Safety related Occurrences.csv\",\n",
        "                        na_values=['', 'NULL'],\n",
        "                        header=0, sep = ',',\n",
        "                        engine = 'python'\n",
        "                       )"
      ],
      "execution_count": null,
      "outputs": []
    },
    {
      "cell_type": "code",
      "metadata": {
        "id": "uVfkDxKgnr0q"
      },
      "source": [
        "icao.head(4)"
      ],
      "execution_count": null,
      "outputs": []
    },
    {
      "cell_type": "code",
      "metadata": {
        "id": "C5mJY6PXAL0U",
        "outputId": "7b50569c-98b8-40a0-8241-8549bc43c1d8",
        "colab": {
          "base_uri": "https://localhost:8080/",
          "height": 34
        }
      },
      "source": [
        "icao.shape"
      ],
      "execution_count": null,
      "outputs": [
        {
          "output_type": "execute_result",
          "data": {
            "text/plain": [
              "(26136, 24)"
            ]
          },
          "metadata": {
            "tags": []
          },
          "execution_count": 5
        }
      ]
    },
    {
      "cell_type": "code",
      "metadata": {
        "id": "nsNk9piOoMY5"
      },
      "source": [
        "icao.columns"
      ],
      "execution_count": null,
      "outputs": []
    },
    {
      "cell_type": "code",
      "metadata": {
        "id": "pXqw_xshS3a_",
        "outputId": "ee1a1f35-f46e-403d-f817-6743dec7a7ce",
        "colab": {
          "base_uri": "https://localhost:8080/",
          "height": 442
        }
      },
      "source": [
        "icao.nunique()"
      ],
      "execution_count": null,
      "outputs": [
        {
          "output_type": "execute_result",
          "data": {
            "text/plain": [
              "Date                    4554\n",
              "StateOfOccurrence        209\n",
              "Location                7565\n",
              "Model                   2093\n",
              "Registration           22196\n",
              "Operator                8429\n",
              "StateOfOperator          155\n",
              "StateOfRegistry          180\n",
              "FlightPhase               11\n",
              "Class                     12\n",
              "Fatalities                78\n",
              "Over2250                   2\n",
              "Over5700                   2\n",
              "ScheduledCommercial        2\n",
              "InjuryLevel                5\n",
              "TypeDesignator           761\n",
              "Helicopter                 2\n",
              "Airplane                   2\n",
              "Engines                    6\n",
              "EngineType                 4\n",
              "Official                   2\n",
              "OccCats                  612\n",
              "Risk                      27\n",
              "Year                      13\n",
              "dtype: int64"
            ]
          },
          "metadata": {
            "tags": []
          },
          "execution_count": 6
        }
      ]
    },
    {
      "cell_type": "code",
      "metadata": {
        "id": "gL3HwMJToY2T"
      },
      "source": [
        "icao = icao.drop(columns = ['Location','Registration', 'Operator', 'StateOfOperator',\n",
        "                            'StateOfRegistry', 'ScheduledCommercial',\n",
        "                            'Official', 'OccCats', 'Risk' ])"
      ],
      "execution_count": null,
      "outputs": []
    },
    {
      "cell_type": "code",
      "metadata": {
        "id": "Gitim5CwogxM",
        "outputId": "46cf6115-d188-40fe-bdd6-aa66c82a1bec",
        "colab": {
          "base_uri": "https://localhost:8080/",
          "height": 85
        }
      },
      "source": [
        "icao.columns"
      ],
      "execution_count": null,
      "outputs": [
        {
          "output_type": "execute_result",
          "data": {
            "text/plain": [
              "Index(['Date', 'StateOfOccurrence', 'Model', 'FlightPhase', 'Class',\n",
              "       'Fatalities', 'Over2250', 'Over5700', 'InjuryLevel', 'TypeDesignator',\n",
              "       'Helicopter', 'Airplane', 'Engines', 'EngineType', 'Year'],\n",
              "      dtype='object')"
            ]
          },
          "metadata": {
            "tags": []
          },
          "execution_count": 8
        }
      ]
    },
    {
      "cell_type": "code",
      "metadata": {
        "id": "o8eHl6tXdJ57",
        "outputId": "7e2507bc-a9ae-42d4-e0c3-8de66320b210",
        "colab": {
          "base_uri": "https://localhost:8080/",
          "height": 34
        }
      },
      "source": [
        "icao.shape"
      ],
      "execution_count": null,
      "outputs": [
        {
          "output_type": "execute_result",
          "data": {
            "text/plain": [
              "(26136, 15)"
            ]
          },
          "metadata": {
            "tags": []
          },
          "execution_count": 9
        }
      ]
    },
    {
      "cell_type": "code",
      "metadata": {
        "id": "AfMg-4osoDht",
        "outputId": "174dee2a-7423-4784-9f71-3990fe199e8f",
        "colab": {
          "base_uri": "https://localhost:8080/",
          "height": 297
        }
      },
      "source": [
        "icao.describe()"
      ],
      "execution_count": null,
      "outputs": [
        {
          "output_type": "execute_result",
          "data": {
            "text/html": [
              "<div>\n",
              "<style scoped>\n",
              "    .dataframe tbody tr th:only-of-type {\n",
              "        vertical-align: middle;\n",
              "    }\n",
              "\n",
              "    .dataframe tbody tr th {\n",
              "        vertical-align: top;\n",
              "    }\n",
              "\n",
              "    .dataframe thead th {\n",
              "        text-align: right;\n",
              "    }\n",
              "</style>\n",
              "<table border=\"1\" class=\"dataframe\">\n",
              "  <thead>\n",
              "    <tr style=\"text-align: right;\">\n",
              "      <th></th>\n",
              "      <th>Fatalities</th>\n",
              "      <th>Engines</th>\n",
              "      <th>Year</th>\n",
              "    </tr>\n",
              "  </thead>\n",
              "  <tbody>\n",
              "    <tr>\n",
              "      <th>count</th>\n",
              "      <td>16473.000000</td>\n",
              "      <td>26136.000000</td>\n",
              "      <td>26136.000000</td>\n",
              "    </tr>\n",
              "    <tr>\n",
              "      <th>mean</th>\n",
              "      <td>0.800461</td>\n",
              "      <td>1.814777</td>\n",
              "      <td>2014.230257</td>\n",
              "    </tr>\n",
              "    <tr>\n",
              "      <th>std</th>\n",
              "      <td>7.128943</td>\n",
              "      <td>0.651067</td>\n",
              "      <td>3.670326</td>\n",
              "    </tr>\n",
              "    <tr>\n",
              "      <th>min</th>\n",
              "      <td>0.000000</td>\n",
              "      <td>1.000000</td>\n",
              "      <td>2008.000000</td>\n",
              "    </tr>\n",
              "    <tr>\n",
              "      <th>25%</th>\n",
              "      <td>0.000000</td>\n",
              "      <td>1.000000</td>\n",
              "      <td>2011.000000</td>\n",
              "    </tr>\n",
              "    <tr>\n",
              "      <th>50%</th>\n",
              "      <td>0.000000</td>\n",
              "      <td>2.000000</td>\n",
              "      <td>2015.000000</td>\n",
              "    </tr>\n",
              "    <tr>\n",
              "      <th>75%</th>\n",
              "      <td>0.000000</td>\n",
              "      <td>2.000000</td>\n",
              "      <td>2017.000000</td>\n",
              "    </tr>\n",
              "    <tr>\n",
              "      <th>max</th>\n",
              "      <td>298.000000</td>\n",
              "      <td>8.000000</td>\n",
              "      <td>2020.000000</td>\n",
              "    </tr>\n",
              "  </tbody>\n",
              "</table>\n",
              "</div>"
            ],
            "text/plain": [
              "         Fatalities       Engines          Year\n",
              "count  16473.000000  26136.000000  26136.000000\n",
              "mean       0.800461      1.814777   2014.230257\n",
              "std        7.128943      0.651067      3.670326\n",
              "min        0.000000      1.000000   2008.000000\n",
              "25%        0.000000      1.000000   2011.000000\n",
              "50%        0.000000      2.000000   2015.000000\n",
              "75%        0.000000      2.000000   2017.000000\n",
              "max      298.000000      8.000000   2020.000000"
            ]
          },
          "metadata": {
            "tags": []
          },
          "execution_count": 10
        }
      ]
    },
    {
      "cell_type": "markdown",
      "metadata": {
        "id": "5yrClABQwV5W"
      },
      "source": [
        "## **Estatística descritiva dos acidentes**\n",
        "\n",
        "A análise dos dados poderá responder as seguintes questões:\n",
        "\n",
        "1) Quantos acidentes houve no período de 2008 a 2020, por ano?\n",
        "\n",
        "2) Quantos foram os acidentes por país?\n",
        "\n",
        "3) Quais os modelos de aeronaves mais frequentes?\n",
        "\n",
        "4) Quantos acidentes houve, pela fase da operação?\n",
        "\n",
        "5) Quais foram os níveis de danos, encontrados nas ocorrências?\n",
        "\n",
        "6) Quantas fatalidades ocorreram, no período?"
      ]
    },
    {
      "cell_type": "code",
      "metadata": {
        "id": "Opdz5RbUqV5X"
      },
      "source": [
        "# ocor por ano crescente\n",
        "por_a = (icao['Year'])\n",
        "por_a.count()"
      ],
      "execution_count": null,
      "outputs": []
    },
    {
      "cell_type": "code",
      "metadata": {
        "id": "nZuyDFTkSH0p",
        "outputId": "8f9948c2-3785-45dd-e69e-88c9a7c76570",
        "colab": {
          "base_uri": "https://localhost:8080/",
          "height": 306
        }
      },
      "source": [
        "# Classificação ocorrencias\n",
        "\n",
        "print(icao['Class'].unique())\n",
        "print(icao['Class'].value_counts())"
      ],
      "execution_count": null,
      "outputs": [
        {
          "output_type": "stream",
          "text": [
            "['Accident' 'Incident' 'Serious incident' 'Significant incident' nan\n",
            " 'Major incident' 'Occurrence without safety effect' 'Not determined'\n",
            " 'Report' 'Crash' 'News' 'Occurrence with No Flight Intended'\n",
            " 'Serious Incident']\n",
            "Accident                              12458\n",
            "Incident                              10666\n",
            "Serious incident                       1945\n",
            "Serious Incident                        384\n",
            "Report                                  131\n",
            "Occurrence without safety effect        117\n",
            "Significant incident                     66\n",
            "Major incident                           15\n",
            "Not determined                           10\n",
            "News                                      5\n",
            "Crash                                     3\n",
            "Occurrence with No Flight Intended        2\n",
            "Name: Class, dtype: int64\n"
          ],
          "name": "stdout"
        }
      ]
    },
    {
      "cell_type": "markdown",
      "metadata": {
        "id": "NvzdtnpRA902"
      },
      "source": [
        "A partir daqui, tratarei apenas de acidentes"
      ]
    },
    {
      "cell_type": "code",
      "metadata": {
        "id": "zS7_iDM3ovuP"
      },
      "source": [
        "# df de acidentes\n",
        "ac = icao[icao['Class'] == 'Accident']"
      ],
      "execution_count": null,
      "outputs": []
    },
    {
      "cell_type": "code",
      "metadata": {
        "id": "or9KsU9bwb8f"
      },
      "source": [
        "ac"
      ],
      "execution_count": null,
      "outputs": []
    },
    {
      "cell_type": "code",
      "metadata": {
        "id": "-aLxMHpP96iS"
      },
      "source": [
        "# Gráfico de acidentes Por ano - palette\n",
        "px = ac.Year.value_counts()\n",
        "\n",
        "#palette_platform = sns.light_palette(\"green\",25,reverse=True)\n",
        "fig = plt.figure(figsize=(18,8))\n",
        "cx = sns.barplot(px.index, px.values,data=icao) #palette=palette_platform,\n",
        "#plt.title('Ocorrências por Ano',fontsize=21)\n",
        "plt.xlabel('Ano')\n",
        "plt.ylabel('')\n",
        "\n",
        "for p in cx.patches:\n",
        "        cx.annotate('{:.0f}'.format(p.get_height()), (p.get_x()+0.3, p.get_height()+10))"
      ],
      "execution_count": null,
      "outputs": []
    },
    {
      "cell_type": "code",
      "metadata": {
        "id": "E9LFBWK0-PQK"
      },
      "source": [
        "   # acid por país\n",
        "   print(icao['StateOfOccurrence'].value_counts())"
      ],
      "execution_count": null,
      "outputs": []
    },
    {
      "cell_type": "code",
      "metadata": {
        "id": "PMcwPUkmDxbQ",
        "outputId": "75d4a72e-8042-466e-b851-ee48cb8860e5",
        "colab": {
          "base_uri": "https://localhost:8080/",
          "height": 452
        }
      },
      "source": [
        "# Acidentes por State\n",
        "ac.stb.freq(['StateOfOccurrence'], thresh=70)"
      ],
      "execution_count": null,
      "outputs": [
        {
          "output_type": "execute_result",
          "data": {
            "text/html": [
              "<div>\n",
              "<style scoped>\n",
              "    .dataframe tbody tr th:only-of-type {\n",
              "        vertical-align: middle;\n",
              "    }\n",
              "\n",
              "    .dataframe tbody tr th {\n",
              "        vertical-align: top;\n",
              "    }\n",
              "\n",
              "    .dataframe thead th {\n",
              "        text-align: right;\n",
              "    }\n",
              "</style>\n",
              "<table border=\"1\" class=\"dataframe\">\n",
              "  <thead>\n",
              "    <tr style=\"text-align: right;\">\n",
              "      <th></th>\n",
              "      <th>StateOfOccurrence</th>\n",
              "      <th>count</th>\n",
              "      <th>percent</th>\n",
              "      <th>cumulative_count</th>\n",
              "      <th>cumulative_percent</th>\n",
              "    </tr>\n",
              "  </thead>\n",
              "  <tbody>\n",
              "    <tr>\n",
              "      <th>0</th>\n",
              "      <td>USA</td>\n",
              "      <td>4506</td>\n",
              "      <td>38.525992</td>\n",
              "      <td>4506</td>\n",
              "      <td>38.525992</td>\n",
              "    </tr>\n",
              "    <tr>\n",
              "      <th>1</th>\n",
              "      <td>CAN</td>\n",
              "      <td>709</td>\n",
              "      <td>6.061902</td>\n",
              "      <td>5215</td>\n",
              "      <td>44.587893</td>\n",
              "    </tr>\n",
              "    <tr>\n",
              "      <th>2</th>\n",
              "      <td>BRA</td>\n",
              "      <td>467</td>\n",
              "      <td>3.992818</td>\n",
              "      <td>5682</td>\n",
              "      <td>48.580711</td>\n",
              "    </tr>\n",
              "    <tr>\n",
              "      <th>3</th>\n",
              "      <td>AUS</td>\n",
              "      <td>411</td>\n",
              "      <td>3.514022</td>\n",
              "      <td>6093</td>\n",
              "      <td>52.094733</td>\n",
              "    </tr>\n",
              "    <tr>\n",
              "      <th>4</th>\n",
              "      <td>RUS</td>\n",
              "      <td>384</td>\n",
              "      <td>3.283174</td>\n",
              "      <td>6477</td>\n",
              "      <td>55.377907</td>\n",
              "    </tr>\n",
              "    <tr>\n",
              "      <th>5</th>\n",
              "      <td>GBR</td>\n",
              "      <td>353</td>\n",
              "      <td>3.018126</td>\n",
              "      <td>6830</td>\n",
              "      <td>58.396033</td>\n",
              "    </tr>\n",
              "    <tr>\n",
              "      <th>6</th>\n",
              "      <td>ZAF</td>\n",
              "      <td>287</td>\n",
              "      <td>2.453830</td>\n",
              "      <td>7117</td>\n",
              "      <td>60.849863</td>\n",
              "    </tr>\n",
              "    <tr>\n",
              "      <th>7</th>\n",
              "      <td>FRA</td>\n",
              "      <td>238</td>\n",
              "      <td>2.034884</td>\n",
              "      <td>7355</td>\n",
              "      <td>62.884747</td>\n",
              "    </tr>\n",
              "    <tr>\n",
              "      <th>8</th>\n",
              "      <td>DEU</td>\n",
              "      <td>194</td>\n",
              "      <td>1.658687</td>\n",
              "      <td>7549</td>\n",
              "      <td>64.543434</td>\n",
              "    </tr>\n",
              "    <tr>\n",
              "      <th>9</th>\n",
              "      <td>ITA</td>\n",
              "      <td>186</td>\n",
              "      <td>1.590287</td>\n",
              "      <td>7735</td>\n",
              "      <td>66.133721</td>\n",
              "    </tr>\n",
              "    <tr>\n",
              "      <th>10</th>\n",
              "      <td>IDN</td>\n",
              "      <td>181</td>\n",
              "      <td>1.547538</td>\n",
              "      <td>7916</td>\n",
              "      <td>67.681259</td>\n",
              "    </tr>\n",
              "    <tr>\n",
              "      <th>11</th>\n",
              "      <td>NZL</td>\n",
              "      <td>170</td>\n",
              "      <td>1.453488</td>\n",
              "      <td>8086</td>\n",
              "      <td>69.134747</td>\n",
              "    </tr>\n",
              "    <tr>\n",
              "      <th>12</th>\n",
              "      <td>others</td>\n",
              "      <td>3610</td>\n",
              "      <td>30.865253</td>\n",
              "      <td>11696</td>\n",
              "      <td>100.000000</td>\n",
              "    </tr>\n",
              "  </tbody>\n",
              "</table>\n",
              "</div>"
            ],
            "text/plain": [
              "   StateOfOccurrence  count    percent  cumulative_count  cumulative_percent\n",
              "0                USA   4506  38.525992              4506           38.525992\n",
              "1                CAN    709   6.061902              5215           44.587893\n",
              "2                BRA    467   3.992818              5682           48.580711\n",
              "3                AUS    411   3.514022              6093           52.094733\n",
              "4                RUS    384   3.283174              6477           55.377907\n",
              "5                GBR    353   3.018126              6830           58.396033\n",
              "6                ZAF    287   2.453830              7117           60.849863\n",
              "7                FRA    238   2.034884              7355           62.884747\n",
              "8                DEU    194   1.658687              7549           64.543434\n",
              "9                ITA    186   1.590287              7735           66.133721\n",
              "10               IDN    181   1.547538              7916           67.681259\n",
              "11               NZL    170   1.453488              8086           69.134747\n",
              "12            others   3610  30.865253             11696          100.000000"
            ]
          },
          "metadata": {
            "tags": []
          },
          "execution_count": 14
        }
      ]
    },
    {
      "cell_type": "code",
      "metadata": {
        "id": "h48FtvkdyHMP"
      },
      "source": [
        "# Gráfico de acidentes Por país - 10+\n",
        "px = ac.StateOfOccurrence.value_counts().head(10)\n",
        "\n",
        "palette_platform = sns.cubehelix_palette(15,reverse=True)\n",
        "fig = plt.figure(figsize=(10,5))\n",
        "cx = sns.barplot(px.index, px.values,data=icao,palette=palette_platform)\n",
        "plt.xlabel('State')\n",
        "plt.ylabel('')\n",
        "\n",
        "for p in cx.patches:\n",
        "        cx.annotate('{:.0f}'.format(p.get_height()), (p.get_x()+0.3, p.get_height()+50))"
      ],
      "execution_count": null,
      "outputs": []
    },
    {
      "cell_type": "code",
      "metadata": {
        "id": "oqzBjB3SAKxF"
      },
      "source": [
        "# classificação\n",
        "#print(ac['Class'].unique())\n",
        "print(ac['Class'].value_counts())\n",
        "#print(ac['Class'].count())"
      ],
      "execution_count": null,
      "outputs": []
    },
    {
      "cell_type": "code",
      "metadata": {
        "id": "pvVLiKxPq68H",
        "outputId": "b7191866-fa4a-4a21-daf8-4caa7bce66b1",
        "colab": {
          "base_uri": "https://localhost:8080/",
          "height": 51
        }
      },
      "source": [
        "print('Total: ' +\n",
        "      str(icao['Class'].count())\n",
        "     )\n",
        "\n",
        "\n",
        "print('ACIDENTES: ' +\n",
        "      str(icao['Class'][icao['Class'] == 'Accident'].count())\n",
        "     )"
      ],
      "execution_count": null,
      "outputs": [
        {
          "output_type": "stream",
          "text": [
            "Total: 25802\n",
            "ACIDENTES: 12458\n"
          ],
          "name": "stdout"
        }
      ]
    },
    {
      "cell_type": "code",
      "metadata": {
        "id": "AnwzMMgEz42k",
        "outputId": "e4c3c92f-6b8f-4eba-8ed7-7b6b96978ae1",
        "colab": {
          "base_uri": "https://localhost:8080/",
          "height": 514
        }
      },
      "source": [
        "# tabela freq por modelo\n",
        "ac.stb.freq(['Model'], thresh=35)"
      ],
      "execution_count": null,
      "outputs": [
        {
          "output_type": "execute_result",
          "data": {
            "text/html": [
              "<div>\n",
              "<style scoped>\n",
              "    .dataframe tbody tr th:only-of-type {\n",
              "        vertical-align: middle;\n",
              "    }\n",
              "\n",
              "    .dataframe tbody tr th {\n",
              "        vertical-align: top;\n",
              "    }\n",
              "\n",
              "    .dataframe thead th {\n",
              "        text-align: right;\n",
              "    }\n",
              "</style>\n",
              "<table border=\"1\" class=\"dataframe\">\n",
              "  <thead>\n",
              "    <tr style=\"text-align: right;\">\n",
              "      <th></th>\n",
              "      <th>Model</th>\n",
              "      <th>count</th>\n",
              "      <th>percent</th>\n",
              "      <th>cumulative_count</th>\n",
              "      <th>cumulative_percent</th>\n",
              "    </tr>\n",
              "  </thead>\n",
              "  <tbody>\n",
              "    <tr>\n",
              "      <th>0</th>\n",
              "      <td>Robinson Helicopter Company R44</td>\n",
              "      <td>891</td>\n",
              "      <td>7.255700</td>\n",
              "      <td>891</td>\n",
              "      <td>7.255700</td>\n",
              "    </tr>\n",
              "    <tr>\n",
              "      <th>1</th>\n",
              "      <td>Robinson Helicopter Company R22</td>\n",
              "      <td>548</td>\n",
              "      <td>4.462541</td>\n",
              "      <td>1439</td>\n",
              "      <td>11.718241</td>\n",
              "    </tr>\n",
              "    <tr>\n",
              "      <th>2</th>\n",
              "      <td>Bell Bell 206</td>\n",
              "      <td>532</td>\n",
              "      <td>4.332248</td>\n",
              "      <td>1971</td>\n",
              "      <td>16.050489</td>\n",
              "    </tr>\n",
              "    <tr>\n",
              "      <th>3</th>\n",
              "      <td>Airbus Helicopters H125 / AS350</td>\n",
              "      <td>472</td>\n",
              "      <td>3.843648</td>\n",
              "      <td>2443</td>\n",
              "      <td>19.894137</td>\n",
              "    </tr>\n",
              "    <tr>\n",
              "      <th>4</th>\n",
              "      <td>Piper Aircraft Inc PA-34 Seneca</td>\n",
              "      <td>320</td>\n",
              "      <td>2.605863</td>\n",
              "      <td>2763</td>\n",
              "      <td>22.500000</td>\n",
              "    </tr>\n",
              "    <tr>\n",
              "      <th>5</th>\n",
              "      <td>Beechcraft Corp Baron (Beech 58)</td>\n",
              "      <td>228</td>\n",
              "      <td>1.856678</td>\n",
              "      <td>2991</td>\n",
              "      <td>24.356678</td>\n",
              "    </tr>\n",
              "    <tr>\n",
              "      <th>6</th>\n",
              "      <td>Sikorsky (Schweizer) Hughes 269</td>\n",
              "      <td>210</td>\n",
              "      <td>1.710098</td>\n",
              "      <td>3201</td>\n",
              "      <td>26.066775</td>\n",
              "    </tr>\n",
              "    <tr>\n",
              "      <th>7</th>\n",
              "      <td>MD Helicopters Inc MD500 / Hughes 369</td>\n",
              "      <td>177</td>\n",
              "      <td>1.441368</td>\n",
              "      <td>3378</td>\n",
              "      <td>27.508143</td>\n",
              "    </tr>\n",
              "    <tr>\n",
              "      <th>8</th>\n",
              "      <td>Piper Aircraft Inc PA-31 Navajo</td>\n",
              "      <td>175</td>\n",
              "      <td>1.425081</td>\n",
              "      <td>3553</td>\n",
              "      <td>28.933225</td>\n",
              "    </tr>\n",
              "    <tr>\n",
              "      <th>9</th>\n",
              "      <td>Cessna Aircraft Company 208</td>\n",
              "      <td>169</td>\n",
              "      <td>1.376221</td>\n",
              "      <td>3722</td>\n",
              "      <td>30.309446</td>\n",
              "    </tr>\n",
              "    <tr>\n",
              "      <th>10</th>\n",
              "      <td>Russian Helicopters (Mil) Mi-8</td>\n",
              "      <td>144</td>\n",
              "      <td>1.172638</td>\n",
              "      <td>3866</td>\n",
              "      <td>31.482085</td>\n",
              "    </tr>\n",
              "    <tr>\n",
              "      <th>11</th>\n",
              "      <td>Piper Aircraft Inc PA-46 Malibu</td>\n",
              "      <td>125</td>\n",
              "      <td>1.017915</td>\n",
              "      <td>3991</td>\n",
              "      <td>32.500000</td>\n",
              "    </tr>\n",
              "    <tr>\n",
              "      <th>12</th>\n",
              "      <td>Beechcraft Corp King Air 90</td>\n",
              "      <td>112</td>\n",
              "      <td>0.912052</td>\n",
              "      <td>4103</td>\n",
              "      <td>33.412052</td>\n",
              "    </tr>\n",
              "    <tr>\n",
              "      <th>13</th>\n",
              "      <td>Bell Bell 407</td>\n",
              "      <td>108</td>\n",
              "      <td>0.879479</td>\n",
              "      <td>4211</td>\n",
              "      <td>34.291531</td>\n",
              "    </tr>\n",
              "    <tr>\n",
              "      <th>14</th>\n",
              "      <td>others</td>\n",
              "      <td>8069</td>\n",
              "      <td>65.708469</td>\n",
              "      <td>12280</td>\n",
              "      <td>100.000000</td>\n",
              "    </tr>\n",
              "  </tbody>\n",
              "</table>\n",
              "</div>"
            ],
            "text/plain": [
              "                                    Model  ...  cumulative_percent\n",
              "0         Robinson Helicopter Company R44  ...            7.255700\n",
              "1         Robinson Helicopter Company R22  ...           11.718241\n",
              "2                           Bell Bell 206  ...           16.050489\n",
              "3         Airbus Helicopters H125 / AS350  ...           19.894137\n",
              "4         Piper Aircraft Inc PA-34 Seneca  ...           22.500000\n",
              "5        Beechcraft Corp Baron (Beech 58)  ...           24.356678\n",
              "6         Sikorsky (Schweizer) Hughes 269  ...           26.066775\n",
              "7   MD Helicopters Inc MD500 / Hughes 369  ...           27.508143\n",
              "8         Piper Aircraft Inc PA-31 Navajo  ...           28.933225\n",
              "9             Cessna Aircraft Company 208  ...           30.309446\n",
              "10         Russian Helicopters (Mil) Mi-8  ...           31.482085\n",
              "11        Piper Aircraft Inc PA-46 Malibu  ...           32.500000\n",
              "12            Beechcraft Corp King Air 90  ...           33.412052\n",
              "13                          Bell Bell 407  ...           34.291531\n",
              "14                                 others  ...          100.000000\n",
              "\n",
              "[15 rows x 5 columns]"
            ]
          },
          "metadata": {
            "tags": []
          },
          "execution_count": 19
        }
      ]
    },
    {
      "cell_type": "code",
      "metadata": {
        "id": "3PdQmc1DDFX9",
        "outputId": "01111fe7-22b8-4380-ac52-c0a9bae2622e",
        "colab": {
          "base_uri": "https://localhost:8080/",
          "height": 524
        }
      },
      "source": [
        "# gráfico de acidentes por modelo\n",
        "px = ac['Model'].value_counts().head(10)\n",
        "\n",
        "fig = plt.figure(figsize=(10,5))\n",
        "cx = sns.barplot(px.index, px.values,data=icao, color=\"grey\")\n",
        "plt.xlabel('Modelo')\n",
        "plt.ylabel('')\n",
        "plt.xticks(rotation=80)\n",
        "\n",
        "for p in cx.patches:\n",
        "        cx.annotate('{:.0f}'.format(p.get_height()), (p.get_x()+.3, p.get_height()+5))"
      ],
      "execution_count": null,
      "outputs": [
        {
          "output_type": "display_data",
          "data": {
            "image/png": "[encoded data removed]",
            "text/plain": [
              "<Figure size 720x360 with 1 Axes>"
            ]
          },
          "metadata": {
            "tags": [],
            "needs_background": "light"
          }
        }
      ]
    },
    {
      "cell_type": "code",
      "metadata": {
        "id": "yzqK6Ro3tIp4"
      },
      "source": [
        "ac['FlightPhase'].value_counts()"
      ],
      "execution_count": null,
      "outputs": []
    },
    {
      "cell_type": "code",
      "metadata": {
        "id": "ZJ6POexsqcKm"
      },
      "source": [
        "# tabela aeronave fase operacao com %\n",
        "ac.stb.freq(['FlightPhase'], thresh=80)"
      ],
      "execution_count": null,
      "outputs": []
    },
    {
      "cell_type": "code",
      "metadata": {
        "id": "ljjMEWflRRLA"
      },
      "source": [
        "# Graf fase da operação\n",
        "plt.figure(figsize=(12,8))\n",
        "#ax = sns.countplot(data= icao, x=ac['FlightPhase'])\n",
        "dx = sns.countplot(x=ac['FlightPhase'],order=ac['FlightPhase'].value_counts().index,data=icao, color=\"red\")\n",
        "#plt.title('Ocorrências por Fase da Operação',fontsize=21)\n",
        "plt.xlabel('Flight Phase')\n",
        "plt.ylabel('')\n",
        "#plt.xticks(rotation=80)\n",
        "\n",
        "for p in dx.patches:\n",
        "        dx.annotate('{:.0f}'.format(p.get_height()), (p.get_x()+0.1, p.get_height()+50))"
      ],
      "execution_count": null,
      "outputs": []
    },
    {
      "cell_type": "code",
      "metadata": {
        "id": "w9XZ5jmbJ04W"
      },
      "source": [
        "ac['TypeDesignator'].value_counts()"
      ],
      "execution_count": null,
      "outputs": []
    },
    {
      "cell_type": "code",
      "metadata": {
        "id": "ir93CDnhrTaS",
        "outputId": "1fd4c708-2da8-4fe0-c5e7-51aa531f9dfd",
        "colab": {
          "base_uri": "https://localhost:8080/",
          "height": 390
        }
      },
      "source": [
        "# Tabla freq Designador de tipo -  Icao\n",
        "ac.stb.freq(['TypeDesignator'], thresh=35)"
      ],
      "execution_count": null,
      "outputs": [
        {
          "output_type": "execute_result",
          "data": {
            "text/html": [
              "<div>\n",
              "<style scoped>\n",
              "    .dataframe tbody tr th:only-of-type {\n",
              "        vertical-align: middle;\n",
              "    }\n",
              "\n",
              "    .dataframe tbody tr th {\n",
              "        vertical-align: top;\n",
              "    }\n",
              "\n",
              "    .dataframe thead th {\n",
              "        text-align: right;\n",
              "    }\n",
              "</style>\n",
              "<table border=\"1\" class=\"dataframe\">\n",
              "  <thead>\n",
              "    <tr style=\"text-align: right;\">\n",
              "      <th></th>\n",
              "      <th>TypeDesignator</th>\n",
              "      <th>count</th>\n",
              "      <th>percent</th>\n",
              "      <th>cumulative_count</th>\n",
              "      <th>cumulative_percent</th>\n",
              "    </tr>\n",
              "  </thead>\n",
              "  <tbody>\n",
              "    <tr>\n",
              "      <th>0</th>\n",
              "      <td>R44</td>\n",
              "      <td>909</td>\n",
              "      <td>7.296516</td>\n",
              "      <td>909</td>\n",
              "      <td>7.296516</td>\n",
              "    </tr>\n",
              "    <tr>\n",
              "      <th>1</th>\n",
              "      <td>R22</td>\n",
              "      <td>565</td>\n",
              "      <td>4.535238</td>\n",
              "      <td>1474</td>\n",
              "      <td>11.831755</td>\n",
              "    </tr>\n",
              "    <tr>\n",
              "      <th>2</th>\n",
              "      <td>AS50</td>\n",
              "      <td>556</td>\n",
              "      <td>4.462996</td>\n",
              "      <td>2030</td>\n",
              "      <td>16.294750</td>\n",
              "    </tr>\n",
              "    <tr>\n",
              "      <th>3</th>\n",
              "      <td>B37M</td>\n",
              "      <td>485</td>\n",
              "      <td>3.893081</td>\n",
              "      <td>2515</td>\n",
              "      <td>20.187831</td>\n",
              "    </tr>\n",
              "    <tr>\n",
              "      <th>4</th>\n",
              "      <td>PA34</td>\n",
              "      <td>324</td>\n",
              "      <td>2.600738</td>\n",
              "      <td>2839</td>\n",
              "      <td>22.788570</td>\n",
              "    </tr>\n",
              "    <tr>\n",
              "      <th>5</th>\n",
              "      <td>EBOY</td>\n",
              "      <td>320</td>\n",
              "      <td>2.568631</td>\n",
              "      <td>3159</td>\n",
              "      <td>25.357200</td>\n",
              "    </tr>\n",
              "    <tr>\n",
              "      <th>6</th>\n",
              "      <td>PA47</td>\n",
              "      <td>304</td>\n",
              "      <td>2.440199</td>\n",
              "      <td>3463</td>\n",
              "      <td>27.797399</td>\n",
              "    </tr>\n",
              "    <tr>\n",
              "      <th>7</th>\n",
              "      <td>BE58</td>\n",
              "      <td>296</td>\n",
              "      <td>2.375983</td>\n",
              "      <td>3759</td>\n",
              "      <td>30.173383</td>\n",
              "    </tr>\n",
              "    <tr>\n",
              "      <th>8</th>\n",
              "      <td>C208</td>\n",
              "      <td>261</td>\n",
              "      <td>2.095039</td>\n",
              "      <td>4020</td>\n",
              "      <td>32.268422</td>\n",
              "    </tr>\n",
              "    <tr>\n",
              "      <th>9</th>\n",
              "      <td>H500</td>\n",
              "      <td>243</td>\n",
              "      <td>1.950554</td>\n",
              "      <td>4263</td>\n",
              "      <td>34.218976</td>\n",
              "    </tr>\n",
              "    <tr>\n",
              "      <th>10</th>\n",
              "      <td>others</td>\n",
              "      <td>8195</td>\n",
              "      <td>65.781024</td>\n",
              "      <td>12458</td>\n",
              "      <td>100.000000</td>\n",
              "    </tr>\n",
              "  </tbody>\n",
              "</table>\n",
              "</div>"
            ],
            "text/plain": [
              "   TypeDesignator  count    percent  cumulative_count  cumulative_percent\n",
              "0             R44    909   7.296516               909            7.296516\n",
              "1             R22    565   4.535238              1474           11.831755\n",
              "2            AS50    556   4.462996              2030           16.294750\n",
              "3            B37M    485   3.893081              2515           20.187831\n",
              "4            PA34    324   2.600738              2839           22.788570\n",
              "5            EBOY    320   2.568631              3159           25.357200\n",
              "6            PA47    304   2.440199              3463           27.797399\n",
              "7            BE58    296   2.375983              3759           30.173383\n",
              "8            C208    261   2.095039              4020           32.268422\n",
              "9            H500    243   1.950554              4263           34.218976\n",
              "10         others   8195  65.781024             12458          100.000000"
            ]
          },
          "metadata": {
            "tags": []
          },
          "execution_count": 22
        }
      ]
    },
    {
      "cell_type": "code",
      "metadata": {
        "id": "H-pARnCnBZ1v"
      },
      "source": [
        "# gráfico de acidentes por modelo\n",
        "px = ac['TypeDesignator'].value_counts().head(10)\n",
        "\n",
        "fig = plt.figure(figsize=(10,5))\n",
        "cx = sns.barplot(px.index, px.values,data=icao, color=\"green\")\n",
        "plt.xlabel('TypeDesignator')\n",
        "plt.ylabel('')\n",
        "#plt.xticks(rotation=80)\n",
        "\n",
        "for p in cx.patches:\n",
        "        cx.annotate('{:.0f}'.format(p.get_height()), (p.get_x()+.3, p.get_height()+5))"
      ],
      "execution_count": null,
      "outputs": []
    },
    {
      "cell_type": "code",
      "metadata": {
        "id": "7IimMjQd4PVF"
      },
      "source": [
        "ac['InjuryLevel'].value_counts()"
      ],
      "execution_count": null,
      "outputs": []
    },
    {
      "cell_type": "code",
      "metadata": {
        "id": "IoDCZgPdCOxw"
      },
      "source": [
        "# Por nivel dano  - absoluto e %\n",
        "px = ac['InjuryLevel'].value_counts()\n",
        "\n",
        "fig, (cx,dx) = plt.subplots(1,2, figsize=(12,6))\n",
        "cx.bar(px.index, px.values, color=(\"blue\",\"orange\",\"green\",\"red\",\"purple\"))\n",
        "plt.ylabel('')\n",
        "\n",
        "for p in cx.patches:\n",
        "        cx.annotate('{:.0f}'.format(p.get_height()), (p.get_x()+.3, p.get_height()+50))\n",
        "\n",
        "# Graf nivel dano - pizza\n",
        "dx = ac['InjuryLevel'].value_counts().plot(kind='pie', subplots=True,\n",
        "                                                     label=\"\" ,\n",
        "                                                    # figsize=(6, 6),\n",
        "                                                     autopct='%1.0f%%'\n",
        "                                                     )"
      ],
      "execution_count": null,
      "outputs": []
    },
    {
      "cell_type": "code",
      "metadata": {
        "id": "rrkHizfaFXTm"
      },
      "source": [
        "# resumo de fatalidades, incluindo 0\n",
        "#ac['Fatalities'].describe()"
      ],
      "execution_count": null,
      "outputs": []
    },
    {
      "cell_type": "code",
      "metadata": {
        "id": "eDnv9MUGaPZu",
        "outputId": "af8de30e-334a-448f-812b-540dbd1852bd",
        "colab": {
          "base_uri": "https://localhost:8080/",
          "height": 170
        }
      },
      "source": [
        "# resumo de fatalidades\n",
        "ac['Fatalities'][ac['Fatalities']>=1].describe()"
      ],
      "execution_count": null,
      "outputs": [
        {
          "output_type": "execute_result",
          "data": {
            "text/plain": [
              "count    2499.000000\n",
              "mean        5.266106\n",
              "std        17.650531\n",
              "min         1.000000\n",
              "25%         1.000000\n",
              "50%         2.000000\n",
              "75%         4.000000\n",
              "max       298.000000\n",
              "Name: Fatalities, dtype: float64"
            ]
          },
          "metadata": {
            "tags": []
          },
          "execution_count": 23
        }
      ]
    },
    {
      "cell_type": "code",
      "metadata": {
        "id": "3fnIBdp_-9Co",
        "outputId": "6610f34e-7857-4136-db25-bf4175d38cba",
        "colab": {
          "base_uri": "https://localhost:8080/",
          "height": 34
        }
      },
      "source": [
        "ac['Fatalities'].max()"
      ],
      "execution_count": null,
      "outputs": [
        {
          "output_type": "execute_result",
          "data": {
            "text/plain": [
              "298.0"
            ]
          },
          "metadata": {
            "tags": []
          },
          "execution_count": 50
        }
      ]
    },
    {
      "cell_type": "code",
      "metadata": {
        "id": "LSh5a-IH7xg_",
        "outputId": "6d9f8c62-738a-469c-8ba9-ebc8b3a0fd36",
        "colab": {
          "base_uri": "https://localhost:8080/",
          "height": 187
        }
      },
      "source": [
        "# dados do acidente com maior numero de fatalidades\n",
        "\n",
        "maxfat = ac['Fatalities']==ac['Fatalities'].max()\n",
        "\n",
        "print('Modelo de aeronave do acidente com mais mortes: ' +str(ac['Model'][maxfat]))\n",
        "\n",
        "print('Data: ' + str(ac['Date'][maxfat]))\n",
        "\n",
        "print('Fase da Operação: ' + str(ac['FlightPhase'][maxfat]))\n",
        "\n",
        "print('País: ' + str(ac['StateOfOccurrence'][maxfat]))\n",
        "\n",
        "print('Designador de tipo: ' + str(ac['TypeDesignator'][maxfat]))"
      ],
      "execution_count": null,
      "outputs": [
        {
          "output_type": "stream",
          "text": [
            "Modelo de aeronave do acidente com mais mortes: 11560    Boeing 777\n",
            "Name: Model, dtype: object\n",
            "Data: 11560    \"2014-07-17T00:00:00.000Z\"\n",
            "Name: Date, dtype: object\n",
            "Fase da Operação: 11560    En route\n",
            "Name: FlightPhase, dtype: object\n",
            "País: 11560    UKR\n",
            "Name: StateOfOccurrence, dtype: object\n",
            "Designador de tipo: 11560    B37M\n",
            "Name: TypeDesignator, dtype: object\n"
          ],
          "name": "stdout"
        }
      ]
    },
    {
      "cell_type": "code",
      "metadata": {
        "id": "tQjKYA5bS81v"
      },
      "source": [
        "# Fatalidades\n",
        "px = ac.Fatalities.value_counts().head(20)\n",
        "\n",
        "# Plotando em um gráfico os 10 +\n",
        "#palette_platform = sns.light_palette(\"green\",25,reverse=True)\n",
        "fig = plt.figure(figsize=(18,5))\n",
        "cx = sns.barplot(px.index,px.values, color=\"lightcoral\", data=icao) #palette=palette_platform\n",
        "#plt.title('Fatalidades',fontsize=21)\n",
        "plt.xlabel('Fatalities')\n",
        "plt.ylabel('')\n",
        "\n",
        "for p in cx.patches:\n",
        "        cx.annotate('{:.0f}'.format(p.get_height()), (p.get_x()+0.3, p.get_height()+50))"
      ],
      "execution_count": null,
      "outputs": []
    },
    {
      "cell_type": "code",
      "metadata": {
        "id": "hbN8r1jFo-u0"
      },
      "source": [
        "# Fatalidades por State\n",
        "ac.stb.freq(['StateOfOccurrence'], value='Fatalities', thresh=50)"
      ],
      "execution_count": null,
      "outputs": []
    }
  ]
}